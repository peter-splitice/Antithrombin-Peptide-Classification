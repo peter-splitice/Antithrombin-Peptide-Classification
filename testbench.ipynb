{
 "cells": [
  {
   "cell_type": "code",
   "execution_count": 9,
   "metadata": {},
   "outputs": [],
   "source": [
    "import pickle\n",
    "import os\n",
    "\n",
    "from classification.peter_initializations import *\n",
    "\n",
    "PATH = os.getcwd()\n",
    "\n",
    "with open(PATH + '/peter_classification/Exports/SVC with Linear Kernel/SFS for SVC with Linear Kernel.pkl', 'rb') as fh:\n",
    "    sfs = pickle.load(fh)\n",
    "\n",
    "x_train_full, x_test, y_train_full, y_test = import_data()"
   ]
  },
  {
   "cell_type": "code",
   "execution_count": 4,
   "metadata": {},
   "outputs": [],
   "source": [
    "x_test_sfs = pd.DataFrame(sfs.transform(x_test), columns=sfs.get_feature_names_out())"
   ]
  }
 ],
 "metadata": {
  "kernelspec": {
   "display_name": "antithrombin",
   "language": "python",
   "name": "python3"
  },
  "language_info": {
   "codemirror_mode": {
    "name": "ipython",
    "version": 3
   },
   "file_extension": ".py",
   "mimetype": "text/x-python",
   "name": "python",
   "nbconvert_exporter": "python",
   "pygments_lexer": "ipython3",
   "version": "3.8.8"
  },
  "orig_nbformat": 4
 },
 "nbformat": 4,
 "nbformat_minor": 2
}
